{
 "cells": [
  {
   "cell_type": "markdown",
   "metadata": {},
   "source": [
    "<img src=\"image_loand_default_mlops.png\" alt=\"image\" style=\"width:1300px;height:400px;\">"
   ]
  },
  {
   "cell_type": "markdown",
   "metadata": {},
   "source": [
    "Dans cette partie, nous nous concentrons sur la mise en œuvre, l'entraînement et l'évaluation de modèles, tout en utilisant Mlflow pour enregistrer les paramètres, les métriques et les artefacts."
   ]
  },
  {
   "cell_type": "markdown",
   "metadata": {},
   "source": [
    "## 1. Data Processing"
   ]
  },
  {
   "cell_type": "code",
   "execution_count": 1,
   "metadata": {},
   "outputs": [],
   "source": [
    "# chargement des library\n",
    "import mlflow\n",
    "import numpy as np\n",
    "import pandas as pd\n",
    "import matplotlib.pyplot as plt\n",
    "from sklearn.model_selection import train_test_split\n",
    "from sklearn.ensemble import RandomForestRegressor\n",
    "from sklearn.linear_model import LogisticRegression\n",
    "from sklearn.metrics import classification_report, confusion_matrix, ConfusionMatrixDisplay"
   ]
  },
  {
   "cell_type": "code",
   "execution_count": 2,
   "metadata": {},
   "outputs": [],
   "source": [
    "# Set environment variables\n",
    "data_path = \"Data/Processed_Loan_Data.csv\"\n",
    "models_path = \"Models/\""
   ]
  },
  {
   "cell_type": "code",
   "execution_count": 3,
   "metadata": {},
   "outputs": [
    {
     "name": "stdout",
     "output_type": "stream",
     "text": [
      "Connected to MLflow server\n"
     ]
    }
   ],
   "source": [
    "# Cnnect to the MLflow tracking server\n",
    "try:\n",
    "    mlflow.set_tracking_uri(\"http://127.0.0.1:8080\")\n",
    "    client = mlflow.MlflowClient(tracking_uri=\"http://127.0.0.1:8080\")\n",
    "    print(\"Connected to MLflow server\")\n",
    "except:\n",
    "    print(\n",
    "        \"MLflow server is not running!\\nPlease execute the cell above in a terminal to launch the MLflow server.\"\n",
    "    )"
   ]
  },
  {
   "cell_type": "markdown",
   "metadata": {},
   "source": [
    "## "
   ]
  },
  {
   "cell_type": "code",
   "execution_count": 4,
   "metadata": {},
   "outputs": [
    {
     "data": {
      "text/html": [
       "<div>\n",
       "<style scoped>\n",
       "    .dataframe tbody tr th:only-of-type {\n",
       "        vertical-align: middle;\n",
       "    }\n",
       "\n",
       "    .dataframe tbody tr th {\n",
       "        vertical-align: top;\n",
       "    }\n",
       "\n",
       "    .dataframe thead th {\n",
       "        text-align: right;\n",
       "    }\n",
       "</style>\n",
       "<table border=\"1\" class=\"dataframe\">\n",
       "  <thead>\n",
       "    <tr style=\"text-align: right;\">\n",
       "      <th></th>\n",
       "      <th>credit_lines_outstanding</th>\n",
       "      <th>loan_amt_outstanding</th>\n",
       "      <th>total_debt_outstanding</th>\n",
       "      <th>income</th>\n",
       "      <th>years_employed</th>\n",
       "      <th>fico_score</th>\n",
       "      <th>default</th>\n",
       "    </tr>\n",
       "  </thead>\n",
       "  <tbody>\n",
       "    <tr>\n",
       "      <th>0</th>\n",
       "      <td>0</td>\n",
       "      <td>0.747096</td>\n",
       "      <td>-0.724848</td>\n",
       "      <td>0.398555</td>\n",
       "      <td>5</td>\n",
       "      <td>-0.536770</td>\n",
       "      <td>0</td>\n",
       "    </tr>\n",
       "    <tr>\n",
       "      <th>1</th>\n",
       "      <td>5</td>\n",
       "      <td>-1.548375</td>\n",
       "      <td>-0.073967</td>\n",
       "      <td>-2.161876</td>\n",
       "      <td>2</td>\n",
       "      <td>-1.080832</td>\n",
       "      <td>1</td>\n",
       "    </tr>\n",
       "    <tr>\n",
       "      <th>2</th>\n",
       "      <td>0</td>\n",
       "      <td>-0.560509</td>\n",
       "      <td>-1.009696</td>\n",
       "      <td>-0.207919</td>\n",
       "      <td>4</td>\n",
       "      <td>-0.586230</td>\n",
       "      <td>0</td>\n",
       "    </tr>\n",
       "    <tr>\n",
       "      <th>3</th>\n",
       "      <td>0</td>\n",
       "      <td>0.427045</td>\n",
       "      <td>-0.938184</td>\n",
       "      <td>0.215083</td>\n",
       "      <td>5</td>\n",
       "      <td>-0.421363</td>\n",
       "      <td>0</td>\n",
       "    </tr>\n",
       "    <tr>\n",
       "      <th>4</th>\n",
       "      <td>1</td>\n",
       "      <td>-1.979733</td>\n",
       "      <td>-1.048780</td>\n",
       "      <td>-2.321314</td>\n",
       "      <td>6</td>\n",
       "      <td>-0.108115</td>\n",
       "      <td>0</td>\n",
       "    </tr>\n",
       "  </tbody>\n",
       "</table>\n",
       "</div>"
      ],
      "text/plain": [
       "   credit_lines_outstanding  loan_amt_outstanding  total_debt_outstanding  \\\n",
       "0                         0              0.747096               -0.724848   \n",
       "1                         5             -1.548375               -0.073967   \n",
       "2                         0             -0.560509               -1.009696   \n",
       "3                         0              0.427045               -0.938184   \n",
       "4                         1             -1.979733               -1.048780   \n",
       "\n",
       "     income  years_employed  fico_score  default  \n",
       "0  0.398555               5   -0.536770        0  \n",
       "1 -2.161876               2   -1.080832        1  \n",
       "2 -0.207919               4   -0.586230        0  \n",
       "3  0.215083               5   -0.421363        0  \n",
       "4 -2.321314               6   -0.108115        0  "
      ]
     },
     "execution_count": 4,
     "metadata": {},
     "output_type": "execute_result"
    }
   ],
   "source": [
    "df = pd.read_csv(data_path)\n",
    "df.head()"
   ]
  },
  {
   "cell_type": "code",
   "execution_count": 5,
   "metadata": {},
   "outputs": [],
   "source": [
    "# Séparation des données\n",
    "X = df.drop(columns=[\"default\"])\n",
    "y = df[\"default\"]"
   ]
  },
  {
   "cell_type": "code",
   "execution_count": 6,
   "metadata": {},
   "outputs": [
    {
     "data": {
      "text/plain": [
       "((8000, 6), (2000, 6), (8000,), (2000,))"
      ]
     },
     "execution_count": 6,
     "metadata": {},
     "output_type": "execute_result"
    }
   ],
   "source": [
    "X_train, X_test, y_train, y_test = train_test_split(X, y, test_size=0.2, random_state=42)\n",
    "X_train.shape, X_test.shape, y_train.shape, y_test.shape"
   ]
  },
  {
   "cell_type": "markdown",
   "metadata": {},
   "source": [
    "**Mlflow connect**"
   ]
  },
  {
   "cell_type": "code",
   "execution_count": null,
   "metadata": {},
   "outputs": [],
   "source": [
    "\n"
   ]
  },
  {
   "cell_type": "code",
   "execution_count": 10,
   "metadata": {},
   "outputs": [],
   "source": [
    "import mlflow.sklearn\n",
    "def eval_log_model(model, X_test, y_test, y_pred, params, run_name):\n",
    "    \"\"\"\n",
    "    Évalue et enregistre un modèle.\n",
    "\n",
    "    Paramètres :\n",
    "    model (object): Le modèle à évaluer.\n",
    "    X_test (array-like): Les données de test des caractéristiques.\n",
    "    y_test (array-like): Les données de test des cibles.\n",
    "    y_pred (array-like): Les prédictions du modèle.\n",
    "    params (dict): Les paramètres du modèle de régression logistique.\n",
    "    run_name (str): Le nom de l'exécution MLflow.\n",
    "\n",
    "    Retourne :\n",
    "    dict: Un dictionnaire contenant les métriques d'évaluation.\n",
    "    matplotlib.figure.Figure: La figure de la matrice de confusion.\n",
    "    \"\"\"\n",
    "\n",
    "    # Générer un rapport de classification et une matrice de confusion\n",
    "    class_report = classification_report(y_test, y_pred, output_dict=True)\n",
    "    conf_matrix = confusion_matrix(y_test, y_pred)\n",
    "\n",
    "    # Extraire les valeurs de la matrice de confusion\n",
    "    tn, fp, fn, tp = conf_matrix.ravel().astype(int)\n",
    "\n",
    "    # Extraire les métriques d'évaluation pour les classes 'default' et 'no_default'\n",
    "    default_precision, default_recall, default_f1_score, _ = class_report[\"1\"].values()\n",
    "    no_default_precision, no_default_recall, no_default_f1_score, _ = class_report[\"0\"].values()\n",
    "\n",
    "    # Créer et afficher la matrice de confusion\n",
    "    fig, ax = plt.subplots(figsize=(7, 6))\n",
    "    cm_display = ConfusionMatrixDisplay(confusion_matrix=conf_matrix, display_labels=[\"no_default\", \"default\"])\n",
    "    cm_display.plot(ax=ax, cmap=\"Blues\")  # Utiliser la carte de couleurs 'Blues'\n",
    "    ax.set_title(\"Matrice de Confusion\")  # Ajouter un titre\n",
    "\n",
    "    # Compiler les métriques d'évaluation dans un dictionnaire\n",
    "    metrics = {\n",
    "        \"default_precision\": default_precision,\n",
    "        \"default_recall\": default_recall,\n",
    "        \"default_f1_score\": default_f1_score,\n",
    "        \"no_default_precision\": no_default_precision,\n",
    "        \"no_default_recall\": no_default_recall,\n",
    "        \"no_default_f1_score\": no_default_f1_score,\n",
    "        \"false_positives\": int(fp),\n",
    "        \"false_negatives\": int(fn),\n",
    "    }\n",
    "    metrics = {k: round(v, 2) for k, v in metrics.items()}\n",
    "\n",
    "    # Enregistrer le modèle et les métriques dans MLflow\n",
    "    with mlflow.start_run(run_name=run_name) as run:\n",
    "        mlflow.log_params(params)  # Enregistrer les paramètres du modèle\n",
    "        mlflow.log_metrics(metrics)  # Enregistrer les métriques d'évaluation\n",
    "        mlflow.log_figure(fig, \"confusion_matrix.png\")  # Enregistrer la figure de la matrice de confusion\n",
    "        mlflow.sklearn.log_model(sk_model=model, artifact_path=run_name)  # Enregistrer le modèle\n",
    "\n",
    "    return metrics, fig"
   ]
  },
  {
   "cell_type": "code",
   "execution_count": 11,
   "metadata": {},
   "outputs": [],
   "source": [
    "experiment_tags = {\"project_name\":\"Loan Default Prediction\" \n",
    "                   ,\"data\": \"Loan Data\",\n",
    "                   \"model\": \"Regression logistique\"}\n",
    "logistic_regression_experiment = client.create_experiment(name=\"Regression Logistique2\",tags=experiment_tags)"
   ]
  },
  {
   "cell_type": "code",
   "execution_count": 12,
   "metadata": {},
   "outputs": [
    {
     "name": "stderr",
     "output_type": "stream",
     "text": [
      "2025/03/23 20:04:36 INFO mlflow.tracking.fluent: Experiment with name 'Régression Logistique2' does not exist. Creating a new experiment.\n"
     ]
    },
    {
     "data": {
      "text/plain": [
       "<Experiment: artifact_location='mlflow-artifacts:/987170202872782491', creation_time=1742749476060, experiment_id='987170202872782491', last_update_time=1742749476060, lifecycle_stage='active', name='Régression Logistique2', tags={}>"
      ]
     },
     "execution_count": 12,
     "metadata": {},
     "output_type": "execute_result"
    }
   ],
   "source": [
    "mlflow.set_experiment(\"Régression Logistique2\")"
   ]
  },
  {
   "cell_type": "code",
   "execution_count": 13,
   "metadata": {},
   "outputs": [
    {
     "name": "stderr",
     "output_type": "stream",
     "text": [
      "2025/03/23 20:04:58 WARNING mlflow.models.model: Model logged without a signature and input example. Please set `input_example` parameter when logging the model to auto infer the model signature.\n",
      "2025/03/23 20:04:58 INFO mlflow.tracking._tracking_service.client: 🏃 View run Regression_logistique_equilibree_saga_elasticnet at: http://127.0.0.1:8080/#/experiments/987170202872782491/runs/861d2b01de0740dd80dd52304659b05d.\n",
      "2025/03/23 20:04:58 INFO mlflow.tracking._tracking_service.client: 🧪 View experiment at: http://127.0.0.1:8080/#/experiments/987170202872782491.\n"
     ]
    },
    {
     "name": "stdout",
     "output_type": "stream",
     "text": [
      "{'default_precision': 0.98, 'default_recall': 1.0, 'default_f1_score': 0.99, 'no_default_precision': 1.0, 'no_default_recall': 1.0, 'no_default_f1_score': 1.0, 'false_positives': 6, 'false_negatives': 0}\n"
     ]
    },
    {
     "data": {
      "image/png": "[encoded data removed]",
      "text/plain": [
       "<Figure size 700x600 with 2 Axes>"
      ]
     },
     "metadata": {},
     "output_type": "display_data"
    }
   ],
   "source": [
    "# Définir les paramètres du modèle\n",
    "run_name = \"Regression_logistique_equilibree_saga_elasticnet\"\n",
    "model_params = {\n",
    "    \"fit_intercept\": True,\n",
    "    \"class_weight\": 'balanced',\n",
    "    \"penalty\": 'elasticnet',\n",
    "    \"solver\": \"saga\",\n",
    "    \"l1_ratio\": 0.5,\n",
    "    \"max_iter\": 1000,\n",
    "    \"random_state\": 42,\n",
    "}\n",
    "# Créer un modèle de régression logistique avec les paramètres donnés\n",
    "model = LogisticRegression(**model_params)\n",
    "\n",
    "# Entraîner le modèle sur les données d'entraînement\n",
    "model.fit(X_train, y_train)\n",
    "\n",
    "# Faire des prédictions sur les données de test\n",
    "y_pred = model.predict(X_test)\n",
    "\n",
    "# Évaluer le modèle et obtenir le rapport de classification et la matrice de confusion\n",
    "class_report, conf_matrix = eval_log_model(model, X_test, y_test, y_pred, model_params, run_name)\n",
    "\n",
    "# Afficher le rapport de classification\n",
    "print(class_report)\n"
   ]
  },
  {
   "cell_type": "markdown",
   "metadata": {},
   "source": [
    "# Forêt Aléatoires"
   ]
  },
  {
   "cell_type": "code",
   "execution_count": 15,
   "metadata": {},
   "outputs": [],
   "source": [
    "#Set the experiment name\n",
    "experiment_tags = {\"project_name\":\"Loan Default Prediction\" ,\n",
    "                   \"data\": \"Loan Data\",\n",
    "                    \"model\": \"Random Forest\"}\n",
    "logistic_regression_experiment = client.create_experiment(name=\"Random_Forest_2\",tags=experiment_tags)"
   ]
  },
  {
   "cell_type": "code",
   "execution_count": 16,
   "metadata": {},
   "outputs": [
    {
     "data": {
      "text/plain": [
       "<Experiment: artifact_location='mlflow-artifacts:/623637167747887516', creation_time=1742749511098, experiment_id='623637167747887516', last_update_time=1742749511098, lifecycle_stage='active', name='Random_Forest_2', tags={'data': 'Loan Data',\n",
       " 'model': 'Random Forest',\n",
       " 'project_name': 'Loan Default Prediction'}>"
      ]
     },
     "execution_count": 16,
     "metadata": {},
     "output_type": "execute_result"
    }
   ],
   "source": [
    "mlflow.set_experiment(\"Random_Forest_2\")"
   ]
  },
  {
   "cell_type": "code",
   "execution_count": 17,
   "metadata": {},
   "outputs": [
    {
     "name": "stderr",
     "output_type": "stream",
     "text": [
      "2025/03/23 20:05:31 WARNING mlflow.models.model: Model logged without a signature and input example. Please set `input_example` parameter when logging the model to auto infer the model signature.\n",
      "2025/03/23 20:05:32 INFO mlflow.tracking._tracking_service.client: 🏃 View run Random_Forest_depth_6_estimators_50 at: http://127.0.0.1:8080/#/experiments/623637167747887516/runs/473f75030141446d93116ecdf481ab50.\n",
      "2025/03/23 20:05:32 INFO mlflow.tracking._tracking_service.client: 🧪 View experiment at: http://127.0.0.1:8080/#/experiments/623637167747887516.\n"
     ]
    },
    {
     "data": {
      "text/plain": [
       "{'default_precision': 0.99,\n",
       " 'default_recall': 0.98,\n",
       " 'default_f1_score': 0.99,\n",
       " 'no_default_precision': 1.0,\n",
       " 'no_default_recall': 1.0,\n",
       " 'no_default_f1_score': 1.0,\n",
       " 'false_positives': 2,\n",
       " 'false_negatives': 8}"
      ]
     },
     "execution_count": 17,
     "metadata": {},
     "output_type": "execute_result"
    },
    {
     "data": {
      "image/png": "[encoded data removed]",
      "text/plain": [
       "<Figure size 700x600 with 2 Axes>"
      ]
     },
     "metadata": {},
     "output_type": "display_data"
    }
   ],
   "source": [
    "# Define the model parameters\n",
    "run_name=\"Random_Forest_depth_6_estimators_50\"\n",
    "model_params = {\n",
    "    \"n_estimators\": 50,\n",
    "    \"max_depth\": 6,\n",
    "    \"min_samples_split\": 10,\n",
    "    \"min_samples_leaf\": 4,\n",
    "    \"bootstrap\": True,\n",
    "    \"oob_score\": False,\n",
    "    \"random_state\":42,\n",
    "}\n",
    "\n",
    "model = RandomForestRegressor(**model_params)\n",
    "\n",
    "# Fit the model on the training data\n",
    "model.fit(X_train, y_train)\n",
    "\n",
    "# Make predictions on the test data\n",
    "y_pred = model.predict(X_test)\n",
    "y_pred = np.where(y_pred > 0.5, 1, 0)\n",
    "\n",
    "class_report,conf_matrix = eval_log_model(model, X_test, y_test,y_pred, model_params,run_name)\n",
    "\n",
    "class_report"
   ]
  },
  {
   "cell_type": "code",
   "execution_count": null,
   "metadata": {},
   "outputs": [],
   "source": []
  }
 ],
 "metadata": {
  "kernelspec": {
   "display_name": "Python 3",
   "language": "python",
   "name": "python3"
  },
  "language_info": {
   "codemirror_mode": {
    "name": "ipython",
    "version": 3
   },
   "file_extension": ".py",
   "mimetype": "text/x-python",
   "name": "python",
   "nbconvert_exporter": "python",
   "pygments_lexer": "ipython3",
   "version": "3.12.3"
  }
 },
 "nbformat": 4,
 "nbformat_minor": 2
}
